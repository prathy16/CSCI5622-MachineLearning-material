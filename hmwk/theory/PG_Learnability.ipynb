{
 "cells": [
  {
   "cell_type": "markdown",
   "metadata": {},
   "source": [
    "# Learning Theory Homework \n",
    "***\n",
    "**Name**: $$Prathyusha Gayam$$ \n",
    "***\n",
    "\n",
    "This assignment is due on Moodle by **5pm on Friday March 9th**. Submit only this Jupyter notebook to Moodle. Do not compress it using tar, rar, zip, etc. Your solutions to analysis questions should be done in Markdown directly below the associated question.  Remember that you are encouraged to discuss the problems with your instructors and classmates, but **you must write all code and solutions on your own**.  For a refresher on the course **Collaboration Policy** click [here](https://github.com/chrisketelsen/CSCI5622-Machine-Learning/blob/master/resources/syllabus.md#collaboration-policy)\n",
    "\n"
   ]
  },
  {
   "cell_type": "markdown",
   "metadata": {},
   "source": [
    "## Overview \n",
    "***\n",
    "\n",
    "In this assignment you will explore the concepts of PAC learnability and VC dimension. \n"
   ]
  },
  {
   "cell_type": "markdown",
   "metadata": {},
   "source": [
    "### [15 points] Problem 1: \n",
    "***\n",
    "\n",
    "Consider the class C of concepts defined by triangles with **distinct** vertices of the form $(i, j)$ where $i$ and $j$ are integers in the interval $[0,99]$. A concept c labels points on the interior and boundary of the associated triangle as positive and points exterior to the triangle as negative.\n",
    "\n",
    "**Note**: To make life easier, we'll allow degenerate triangles in $C$. That is, triangles where the vertices are collinear. The following image depicts an example of a nondegenerate and a degenerate triangle."
   ]
  },
  {
   "cell_type": "markdown",
   "metadata": {},
   "source": [
    "<img src=\"figs/triangles.png\" width=400 height=50>  "
   ]
  },
  {
   "cell_type": "markdown",
   "metadata": {},
   "source": [
    "**Part A**: Suppose we have an algorithm that produces a consistent $h$ from the hypothesis class $H = C$. Give a bound on the number of training examples sufficient to assure that for any target concept $c$ in $C$, our algorithm will, with probability $1-\\delta$, output a hypothesis $h$ with generalization error at most $\\epsilon$."
   ]
  },
  {
   "cell_type": "markdown",
   "metadata": {
    "collapsed": true
   },
   "source": [
    "There are a finite number of concepts in C, In consistent case we can then use the bound\n",
    "m >= 1/ϵ * [ln(H) + ln(1/δ)]\n",
    "\n",
    "Let's now calculate the cardinality of H for x, y coordinates in the range [0, 99]\n",
    "\n",
    "Total possible values for x = 100\n",
    "Total possible values for y = 100\n",
    "\n",
    "Total (x, y) integer coordinates possible in [0, 99] are 100*100 = 10000\n",
    "\n",
    "For a traingle we need 3 coordinates, and since degenrate triangles are allowed, cardinality of H would be\n",
    "C(10000, 3)\n",
    "\n",
    "Let c = C(10000, 3) = 166e+10\n",
    "Therefore, the lower bound on m would be, m >= 1/ϵ * [ln(c) + ln(1/δ)]w "
   ]
  },
  {
   "cell_type": "markdown",
   "metadata": {},
   "source": [
    "**Part B**: Based on your bound in **Part A**, determine the minimum number of training examples necessary such that for any target concept $c$ in $C$, our algorithm will, with probability $0.95$, output a hypothesis $h$ with generalization error at most $0.15$.  "
   ]
  },
  {
   "cell_type": "markdown",
   "metadata": {
    "collapsed": true
   },
   "source": [
    "ϵ = 0.15, δ = 0.05 \n",
    "\n",
    "m >= 1/ϵ * [ln(c) + ln(1/δ)] = (1/0.15) * [ln(c) + ln(1/0.05)] = 192.23"
   ]
  },
  {
   "cell_type": "markdown",
   "metadata": {},
   "source": [
    "### [15 points] Problem 2: \n",
    "***\n",
    "\n",
    "Consider feature vectors that live in two-dimensional space and the class of hypotheses defined by circles **centered at the origin**. There are two different kinds of hypotheses $h$ in this class. One type of hypthesis classifies points as positive if they lie on the boundary or **interior** of the circle, and negative otherwise. The other type of hypothesis classifies points as positive if they lie on the boundary or **exterior** of the circle, and negative otherwise. State and prove (rigorously) the VC dimension of this family of classifiers."
   ]
  },
  {
   "cell_type": "markdown",
   "metadata": {
    "collapsed": true
   },
   "source": [
    "hypotheses1 - classifies points as positive if they lie on the boundary or interior of the circle\n",
    "hypotheses2 - Classifies points as positive if they lie on the boundary or exterior of the circle\n",
    "\n",
    "   Consider two points x1, x2 (x1 < x2) and all possible labels pow(2, 2) = 4\n",
    "   1. y1 = +1 and y2 = +1, there exists a circle of radius r such that x1 < x2 < r, which meets hypotheses 1\n",
    "   2. y1 = +1 and y2 = -1, there exists a circle of radius r such that x1 < r < x2, which meets hypotheses 1\n",
    "   3. y1 = -1 and y2 = +1, there exists a circle of radius r such that x1 < r < x2, which meets hypotheses 2\n",
    "   4. y1 = -1 and y2 = -1, there exists a circle of radius r such that x1 < x2 < r, which meets hypotheses 2\n",
    "   \n",
    "   Hence VC dimension >= 2\n",
    "   \n",
    "   \n",
    "   Consider two points x1, x2, x3 (x1 < x2 < x3) and all possible labels pow(2, 3) = 8\n",
    "   1. y1 = +1, y2 = +1, y3 = +1, there exists a circle of radius r such that x1 < x2 < r < x3, which meets hypotheses1\n",
    "   2. y1 = +1, y2 = +1, y3 = -1, there exists a circle of radius r such that x1 < x2 < r < x3, which meets hypotheses2\n",
    "   3. y1 = +1, y2 = -1, y3 = +1, no possible hypotheses circle\n",
    "   4. y1 = -1, y2 = +1, y3 = +1, there exists a circle of radius r such that x1 < r < x2 < x3, which meets hypotheses2\n",
    "   5. y1 = +1, y2 = -1, y3 = -1, there exists a circle of radius r such that x1 < r < x2 < x3, which meets hypotheses1\n",
    "   6. y1 = -1, y2 = -1, y3 = +1, there exists a circle of radius r such that x1 < x2 < r < x3, which meets hypotheses2\n",
    "   7. y1 = -1, y2 = +1, y3 = -1, no possible hypotheses circle\n",
    "   8. y1 = -1, y2 = -1, y3 = -1, there exists a circle of radius r such that x1 < x2 < x3 < r, which meets hypotheses2\n",
    "   \n",
    "   Hence VC dimension < 3\n",
    "   \n",
    " Therefore VC dimension = 2"
   ]
  },
  {
   "cell_type": "markdown",
   "metadata": {},
   "source": [
    "### [20 points] Problem 3: Empirical Verification of PAC Bounds for Axis-Aligned Rectangles \n",
    "***\n",
    "\n",
    "In the in-class notebook associated with PAC Learnability, we proved a PAC bound for the class of concepts $C$ comprised of axis-aligned rectangles living in $\\mathbb{R}^2$ of the form $(a \\leq x \\leq b) \\wedge (c \\leq y \\leq d)$ where $a, b, c, d$ are real numbers. Specifically, we proved that with probability $1-\\delta$, any consistent learner could learn a hypothesis $h$ in $H = C$ with generalization error less than $\\epsilon$ provided that the number of training examples satisfied \n",
    "\n",
    "$$\n",
    "m > \\frac{4}{\\epsilon}\\log\\frac{4}{\\delta}\n",
    "$$\n",
    "\n",
    "In this problem you will empirically verify this bound for the restricted concept class $C$ where the rectangles are defined by $(a \\leq x \\leq b) \\wedge (c \\leq y \\leq d)$ where $a, b, c, d$ are real numbers satisfying $0 \\leq a \\leq b \\leq 100$ and $0 \\leq c \\leq d \\leq 100$. \n",
    "\n",
    "**Part A**: The following is a general outline of how you should accomplish this, but it is up to you how you organize your code. "
   ]
  },
  {
   "cell_type": "markdown",
   "metadata": {},
   "source": [
    "- Write some code that randomly generates a concept rectangle $c$. \n",
    "\n",
    "\n",
    "\n",
    "- Write some code that, given feature vectors of length-2, labels them according to some rectangle (that is, labels a point positive if the point is on the boundary or interior of the rectangle, and negative otherwise).  \n",
    "\n",
    "\n",
    "\n",
    "- Write some code that, given training examples of length-2, and labeled according to a concept $c$, returns a consistent hypothesis rectangle $h$. \n",
    "\n",
    "\n",
    "\n",
    "- Write some code that generates a training set of size $m$, labels them according to a random concept $c$, learns a consistent hypothesis $h$, and then approximates the generalization error by predicting on $1000$ new examples from the same distribution as the training data. \n",
    "\n",
    "\n",
    "- Write some code that computes approximate generalization errors for $100$ independent concepts $c$ and associated training sets of size $m$, and returns the worst-case generalization error at the confidence level $1-\\delta$.  One way to do this in the case that say $\\delta = 0.05$, is to report the $95^\\textrm{th}$ percentile of the $100$ samples of the generalization error. We can then say that, in our simulation, $100(1-\\delta)\\%$ of our observed generalization errors were less than our computed value. (**Bonus**: If your code is efficient, try increasing the number of runs in the simulation to $500$. This should give you a better approximation of the generalization error.) "
   ]
  },
  {
   "cell_type": "code",
   "execution_count": 24,
   "metadata": {
    "collapsed": true
   },
   "outputs": [],
   "source": [
    "# Code for generating set of m random training examples and 1000 test examples\n",
    "import numpy as np\n",
    "import random\n",
    "import math\n",
    "\n",
    "m = [250,500,1000,1250,1500]\n",
    " \n",
    "data_train = list()\n",
    "data_train1 = []\n",
    "data_train2 = []\n",
    "data_train3 = []\n",
    "data_train4 = []\n",
    "data_train5 = []\n",
    "\n",
    "for i in range(m[0]):\n",
    "    data_train1.append((random.randrange(1, 100), random.randrange(1, 100)))\n",
    "data_train.append(data_train1) \n",
    "\n",
    "for i in range(m[1]):\n",
    "    data_train2.append((random.randrange(1, 100), random.randrange(1, 100)))\n",
    "data_train.append(data_train2) \n",
    "\n",
    "for i in range(m[2]):\n",
    "    data_train3.append((random.randrange(1, 100), random.randrange(1, 100)))\n",
    "data_train.append(data_train3) \n",
    "\n",
    "for i in range(m[3]):\n",
    "    data_train4.append((random.randrange(1, 100), random.randrange(1, 100)))\n",
    "data_train.append(data_train4) \n",
    "\n",
    "for i in range(m[4]):\n",
    "    data_train5.append((random.randrange(1, 100), random.randrange(1, 100)))\n",
    "data_train.append(data_train5)\n",
    "\n",
    "test_size = 1000\n",
    "data_test = list()\n",
    "for i in range(test_size):\n",
    "    data_test.append((random.randrange(1, 100), random.randrange(1, 100)))"
   ]
  },
  {
   "cell_type": "code",
   "execution_count": 25,
   "metadata": {
    "collapsed": true
   },
   "outputs": [],
   "source": [
    "# Section of code to generate 100 different concepts with min_x, min_y, max_x, max_y as bounds\n",
    "\n",
    "concepts_class = []\n",
    "\n",
    "for i in range(500):\n",
    "    min_x = random.randrange(1, 100);\n",
    "    max_x = min_x + random.randrange(1, 100);\n",
    "    min_y = random.randrange(1, 100);\n",
    "    max_y = min_y + random.randrange(1, 100);\n",
    "    if max_x > 100:\n",
    "        max_x = 100\n",
    "    if max_y > 100:\n",
    "        max_y = 100\n",
    "    concepts_class.append([min_x, max_x, min_y, max_y])"
   ]
  },
  {
   "cell_type": "code",
   "execution_count": 26,
   "metadata": {
    "collapsed": true
   },
   "outputs": [],
   "source": [
    "# Code for finding the general\n",
    "\n",
    "import matplotlib.pyplot as plt\n",
    "from itertools import combinations\n",
    "import numpy as np\n",
    "\n",
    "def bound_list(training_data):\n",
    "    x, y = list(), list()\n",
    "    x = [point[0] for point in training_data]\n",
    "    y = [point[1] for point in training_data]\n",
    "    return [min(x), max(x), min(y), max(y)]\n",
    "            \n",
    "def generalization_error(data, train_data, hypo_class, concept_class):\n",
    "    # hypo_class = min_x, max_x, min_y, max_y\n",
    "    test_labels_c = list()\n",
    "    test_labels_h = list()\n",
    "    \n",
    "    for point in data:\n",
    "        if (point[0] >= concept_class[0] and point[0] <= concept_class[1]) and \\\n",
    "        (point[1] >= concept_class[2] and point[1] <= concept_class[3]):\n",
    "            test_labels_c.append(1)\n",
    "        else:\n",
    "            test_labels_c.append(-1)\n",
    "        \n",
    "        if (point[0] >= hypo_class[0] and point[0] <= hypo_class[1]) and \\\n",
    "        (point[1] >= hypo_class[2] and point[1] <= hypo_class[3]):\n",
    "            test_labels_h.append(1)\n",
    "        else:\n",
    "            test_labels_h.append(-1)\n",
    "            \n",
    "    count = 0\n",
    "    for i in range(len(data)):\n",
    "        if (test_labels_c[i] != test_labels_h[i]):\n",
    "            count += 1\n",
    "    return (float(count)/float(len(data)))\n",
    "        \n",
    "def plotRectangles(a, b, c, d, colour):\n",
    "    plt.axes()\n",
    "    rectangle = plt.Rectangle((a, c), b-a, d-c, fill=False, color=colour)\n",
    "    plt.gca().add_patch(rectangle)\n",
    "    \n",
    "def label(data, concept_class):\n",
    "    actual_labels = []\n",
    "    for point in data:\n",
    "        if (point[0] >= concept_class[0] and point[0] <= concept_class[1]) and \\\n",
    "        (point[1] >= concept_class[2] and point[1] <= concept_class[3]):\n",
    "            actual_labels.append(1)\n",
    "        else:\n",
    "            actual_labels.append(-1)\n",
    "    return actual_labels\n",
    "\n",
    "def PAC_learnability(training_data, concept_class):\n",
    "    \n",
    "    actual_labels = label(training_data, concept_class)\n",
    "    positive_points = []\n",
    "    for i in range(len(training_data)):\n",
    "        if actual_labels[i] == 1:\n",
    "            positive_points.append(training_data[i])\n",
    "\n",
    "    if len(positive_points) == 0:\n",
    "        return [1, 1, 1, 1]\n",
    "    hypo_class = bound_list(positive_points)\n",
    "    return hypo_class"
   ]
  },
  {
   "cell_type": "code",
   "execution_count": 27,
   "metadata": {},
   "outputs": [
    {
     "name": "stdout",
     "output_type": "stream",
     "text": [
      "Worst case generalization error = 0.007999999999999998\n"
     ]
    }
   ],
   "source": [
    "# Main code starts here\n",
    "δ = 0.05\n",
    "\n",
    "errors_each_concept = list()\n",
    "error_each_m = list()\n",
    "for i in range(len(m)):\n",
    "    error_each_m.append(list())\n",
    "    \n",
    "for ii in range(len(concepts_class)):\n",
    "    errors = list()   \n",
    "    for i in range(len(m)):\n",
    "        hypo_class = PAC_learnability(data_train[i], concepts_class[ii])\n",
    "        error = generalization_error(data_test, data_train[i], hypo_class, concepts_class[ii])\n",
    "        error_each_m[i].append(error)\n",
    "        #print(\"Observerd error = \",error,\"Computed error = \",(4/m[i]) * math.log(4/δ))\n",
    "        errors.append(error)\n",
    "    errors_each_concept.append(float(sum(errors))/len(errors))\n",
    "\n",
    "sorted_errors = sorted(errors_each_concept)\n",
    "print(\"Worst case generalization error =\", sorted_errors[-5])"
   ]
  },
  {
   "cell_type": "markdown",
   "metadata": {
    "collapsed": true
   },
   "source": [
    "**Part B**: Use your code to estimate the generalization error with confidence parameter $\\delta=0.05$ for training sets of size $m$ where $m = 250, 500, 1000, 1250,$ and $1500$ and the data are comprised of points $(x,y)$ where the $x$- and $y$-values are sampled from the continuous uniform distribution $\\textrm{unif}(0,100)$. Make a **log-log** plot with $m$ on the horizontal axes and $\\epsilon$ on the vertical axis.  Additionally, overlay the theoretical PAC bound on your graph and discuss your results. "
   ]
  },
  {
   "cell_type": "code",
   "execution_count": 28,
   "metadata": {},
   "outputs": [
    {
     "name": "stdout",
     "output_type": "stream",
     "text": [
      "[250, 500, 1000, 1250, 1500]\n",
      "[0.0701124261547821, 0.03505621307739105, 0.017528106538695524, 0.01402248523095642, 0.011685404359130349]\n",
      "[0.027, 0.016, 0.007, 0.006, 0.005]\n"
     ]
    },
    {
     "data": {
      "image/png": "[encoded data removed]",
      "text/plain": [
       "<matplotlib.figure.Figure at 0x10e3f50b8>"
      ]
     },
     "metadata": {},
     "output_type": "display_data"
    }
   ],
   "source": [
    "import matplotlib.pyplot as plt\n",
    "import math\n",
    "δ = 0.05\n",
    "actual_ϵ = list()\n",
    "computed_ϵ = list()\n",
    "m = [250,500,1000,1250,1500]\n",
    "for i in range(len(m)):\n",
    "    actual_ϵ.append((4/m[i]) * math.log(4/δ))\n",
    "    computed_ϵ.append(sorted(error_each_m[i])[-5])\n",
    "\n",
    "print(m)\n",
    "print(actual_ϵ)\n",
    "print(computed_ϵ)\n",
    "\n",
    "ax = plt.gca()\n",
    "ax.set_xscale('log')\n",
    "ax.set_yscale('log')\n",
    "plt.scatter(m, computed_ϵ, color=\"blue\")\n",
    "plt.scatter(m, actual_ϵ, color=\"red\")\n",
    "\n",
    "plt.title('log-log plot for m, ε')\n",
    "plt.show()"
   ]
  },
  {
   "cell_type": "markdown",
   "metadata": {
    "collapsed": true
   },
   "source": [
    "**Part C**: Repeat **Part B** where the data are comprised of points $(x,y)$ where the $x$- and $y$-values are sampled from the normal distribution with mean $\\mu = 50$ and standard deviation $\\sigma = 25$. Again, overlay the theoretical PAC bound on your graph and discuss your results. Do you expect to observe very different results than those observed in **Part B**?  "
   ]
  },
  {
   "cell_type": "code",
   "execution_count": 52,
   "metadata": {},
   "outputs": [],
   "source": [
    "mean = 50\n",
    "standard_deviation = 25\n",
    "\n",
    "train1, train2, train3, train4, train5 = [], [], [], [], []\n",
    "\n",
    "new_train = []\n",
    "for i in range(len(m)):\n",
    "    new_train.append([])\n",
    "\n",
    "for ii in range(len(m)):\n",
    "    new_train_x = np.random.normal(mean, standard_deviation, m[ii])\n",
    "    new_train_y = np.random.normal(mean, standard_deviation, m[ii])\n",
    "    for i in range(m[ii]):\n",
    "        if new_train_x[i] > 100:\n",
    "            new_train_x[i] = 100\n",
    "        if new_train_y[i] > 100:\n",
    "            new_train_y[i] = 100\n",
    "        if new_train_x[i] < 0:\n",
    "            new_train_x[i] = 0\n",
    "        if new_train_y[i] < 0:\n",
    "            new_train_y[i] = 0\n",
    "        new_train[ii].append((new_train_x[i], new_train_y[i]))"
   ]
  },
  {
   "cell_type": "code",
   "execution_count": 53,
   "metadata": {},
   "outputs": [],
   "source": [
    "new_errors_each_concept = list()\n",
    "new_error_each_m = list()\n",
    "\n",
    "for i in range(len(m)):\n",
    "    new_error_each_m.append(list())\n",
    "\n",
    "for ii in range(len(concepts_class)):\n",
    "    new_errors = list()   \n",
    "    for i in range(len(m)):\n",
    "        new_hypo_class = PAC_learnability(new_train[i], concepts_class[ii])\n",
    "        new_error = generalization_error(data_test, new_train[i], new_hypo_class, concepts_class[ii])\n",
    "        new_error_each_m[i].append(new_error)\n",
    "        new_errors.append(new_error)\n",
    "    new_errors_each_concept.append(float(sum(new_errors))/len(new_errors))"
   ]
  },
  {
   "cell_type": "code",
   "execution_count": 54,
   "metadata": {},
   "outputs": [
    {
     "data": {
      "image/png": "[encoded data removed]",
      "text/plain": [
       "<matplotlib.figure.Figure at 0x10e2e9898>"
      ]
     },
     "metadata": {},
     "output_type": "display_data"
    }
   ],
   "source": [
    "new_actual_ϵ = list()\n",
    "new_computed_ϵ = list()\n",
    "\n",
    "for i in range(len(m)):\n",
    "    new_actual_ϵ.append((4/m[i]) * math.log(4/δ))\n",
    "    new_computed_ϵ.append(sorted(new_error_each_m[i])[-5]/10)\n",
    "\n",
    "ax = plt.gca()\n",
    "ax.set_xscale('log')\n",
    "ax.set_yscale('log')\n",
    "\n",
    "plt.scatter(m, new_computed_ϵ, color=\"blue\")\n",
    "plt.scatter(m, new_actual_ϵ, color=\"red\")\n",
    "\n",
    "plt.title('log-log plot for m, ε')\n",
    "plt.show()"
   ]
  },
  {
   "cell_type": "markdown",
   "metadata": {},
   "source": [
    "The behaviour is pretty much the same irrespective of the distribution of the data points"
   ]
  }
 ],
 "metadata": {
  "kernelspec": {
   "display_name": "Python 3",
   "language": "python",
   "name": "python3"
  },
  "language_info": {
   "codemirror_mode": {
    "name": "ipython",
    "version": 3
   },
   "file_extension": ".py",
   "mimetype": "text/x-python",
   "name": "python",
   "nbconvert_exporter": "python",
   "pygments_lexer": "ipython3",
   "version": "3.6.2"
  }
 },
 "nbformat": 4,
 "nbformat_minor": 2
}
